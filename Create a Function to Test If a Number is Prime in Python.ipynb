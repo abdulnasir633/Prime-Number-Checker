{
 "cells": [
  {
   "cell_type": "code",
   "execution_count": 1,
   "id": "c5e05d18",
   "metadata": {},
   "outputs": [
    {
     "name": "stdout",
     "output_type": "stream",
     "text": [
      "17 is a prime number.\n"
     ]
    }
   ],
   "source": [
    "def is_prime(n):\n",
    "    # Check if the number is less than 2\n",
    "    if n < 2:\n",
    "        return False\n",
    "    \n",
    "    # Check for factors from 2 to the square root of n\n",
    "    for i in range(2, int(n**0.5) + 1):\n",
    "        if n % i == 0:\n",
    "            # If a factor is found, the number is not prime\n",
    "            return False\n",
    "    \n",
    "    # If no factors are found, the number is prime\n",
    "    return True\n",
    "\n",
    "# Example usage:\n",
    "number_to_check = 17\n",
    "result = is_prime(number_to_check)\n",
    "\n",
    "if result:\n",
    "    print(f\"{number_to_check} is a prime number.\")\n",
    "else:\n",
    "    print(f\"{number_to_check} is not a prime number.\")\n"
   ]
  },
  {
   "cell_type": "code",
   "execution_count": 2,
   "id": "0ce0afef",
   "metadata": {},
   "outputs": [
    {
     "name": "stdout",
     "output_type": "stream",
     "text": [
      "The number of prime numbers between 100 and 151 is: 11\n"
     ]
    }
   ],
   "source": [
    "def is_prime(n):\n",
    "    if n < 2:\n",
    "        return False\n",
    "    for i in range(2, int(n**0.5) + 1):\n",
    "        if n % i == 0:\n",
    "            return False\n",
    "    return True\n",
    "\n",
    "# Define the range\n",
    "start_range = 100\n",
    "end_range = 151\n",
    "\n",
    "# Count the prime numbers within the range\n",
    "prime_count = 0\n",
    "for number in range(start_range, end_range + 1):\n",
    "    if is_prime(number):\n",
    "        prime_count += 1\n",
    "\n",
    "# Output the result\n",
    "print(f\"The number of prime numbers between {start_range} and {end_range} is: {prime_count}\")\n"
   ]
  },
  {
   "cell_type": "code",
   "execution_count": 14,
   "id": "9549a6a3",
   "metadata": {},
   "outputs": [
    {
     "name": "stdout",
     "output_type": "stream",
     "text": [
      "313 is a prime number.\n"
     ]
    }
   ],
   "source": [
    "def is_prime(n):\n",
    "    if n < 2:\n",
    "        return False\n",
    "    if n == 2:\n",
    "        return True\n",
    "    if n % 2 == 0:\n",
    "        return False\n",
    "    # Check for factors starting from 3 up to the square root of n with step 2\n",
    "    for i in range(3, int(n**0.5) + 1, 2):\n",
    "        if n % i == 0:\n",
    "            return False\n",
    "    return True\n",
    "\n",
    "# Example usage:\n",
    "number_to_check = 313\n",
    "result = is_prime(number_to_check)\n",
    "\n",
    "if result:\n",
    "    print(f\"{number_to_check} is a prime number.\")\n",
    "else:\n",
    "    print(f\"{number_to_check} is not a prime number.\")\n"
   ]
  },
  {
   "cell_type": "code",
   "execution_count": null,
   "id": "21489833",
   "metadata": {},
   "outputs": [],
   "source": []
  }
 ],
 "metadata": {
  "kernelspec": {
   "display_name": "Python 3 (ipykernel)",
   "language": "python",
   "name": "python3"
  },
  "language_info": {
   "codemirror_mode": {
    "name": "ipython",
    "version": 3
   },
   "file_extension": ".py",
   "mimetype": "text/x-python",
   "name": "python",
   "nbconvert_exporter": "python",
   "pygments_lexer": "ipython3",
   "version": "3.9.12"
  }
 },
 "nbformat": 4,
 "nbformat_minor": 5
}
